{
  "nbformat": 4,
  "nbformat_minor": 0,
  "metadata": {
    "kernelspec": {
      "display_name": "Python 3",
      "language": "python",
      "name": "python3"
    },
    "language_info": {
      "codemirror_mode": {
        "name": "ipython",
        "version": 3
      },
      "file_extension": ".py",
      "mimetype": "text/x-python",
      "name": "python",
      "nbconvert_exporter": "python",
      "pygments_lexer": "ipython3",
      "version": "3.7.3"
    },
    "colab": {
      "name": "DS_Bitácora_07_Seaborn.ipynb",
      "provenance": [],
      "collapsed_sections": []
    }
  },
  "cells": [
    {
      "cell_type": "markdown",
      "metadata": {
        "id": "JscpLB8ETsog"
      },
      "source": [
        "# Visualización de datos con Seaborn\n",
        "Seaborn es una libreria de visualizacíon en Python que trabaja sobre Matplotlib. Esta libreria nos permite generar gráficos a partir de DataFrames de Pandas de manera muy cómoda y accesible. \n",
        "\n",
        "Antes de empezar a trabajar vamos a importar las librerias que ya conocemos de antes, y ahora sumaremos Seaborn, la cual se suele importar con el nombre `sns`. Además, se suele acompañar de la instrucción `sns.set()` que sirve para darle un estilo particular a los gráficos, como veremos en breve."
      ]
    },
    {
      "cell_type": "code",
      "metadata": {
        "id": "MK3uAYdITsoy"
      },
      "source": [
        "import numpy as np\n",
        "import pandas as pd\n",
        "import matplotlib.pyplot as plt\n",
        "\n",
        "import seaborn as sns\n",
        "# sns.set() "
      ],
      "execution_count": null,
      "outputs": []
    },
    {
      "cell_type": "markdown",
      "metadata": {
        "id": "Srm6WHGzTspe"
      },
      "source": [
        "Seaborn ya viene con algunos datasets incorporados. Puedes ver cuáles con la siguiente instrucción:"
      ]
    },
    {
      "cell_type": "code",
      "metadata": {
        "id": "WUVDb6YbTspm"
      },
      "source": [
        "sns.get_dataset_names()"
      ],
      "execution_count": null,
      "outputs": []
    },
    {
      "cell_type": "markdown",
      "metadata": {
        "id": "1Xh5zsk4Tsp-"
      },
      "source": [
        "Vamos a usar el dataset Iris, que ya conocemos. Para cargarlo, simplemente hacemos:"
      ]
    },
    {
      "cell_type": "code",
      "metadata": {
        "id": "mCXnwM7UTsqF"
      },
      "source": [
        "data = sns.load_dataset('iris')\n",
        "data.head()"
      ],
      "execution_count": null,
      "outputs": []
    },
    {
      "cell_type": "markdown",
      "metadata": {
        "id": "3xBzFJdETsqY"
      },
      "source": [
        "Notar que ya lo carga en un Data Frame de Pandas. Las columnas tienen nombres ligeramente distintos a los que veníamos usando, pero la información es la misma. Veamos qué podemos hacer con Seaborn para visualizar de forma eficiente este dataset.\n",
        "\n",
        "## 1. Diagramas de dispersión e histogramas con Seaborn.\n",
        "\n",
        "Una instrucción muy cómoda para hacer una primera inspección de un dataset es `sns.pairplot()`. Hay que tener cuidado con esta función cuando el dataset tiene muchas instancias o columnas."
      ]
    },
    {
      "cell_type": "code",
      "metadata": {
        "id": "nt-_LtdRTsqd"
      },
      "source": [
        "sns.pairplot(data)"
      ],
      "execution_count": null,
      "outputs": []
    },
    {
      "cell_type": "markdown",
      "metadata": {
        "id": "H9pj_KgrTsqz"
      },
      "source": [
        "¿Ves lo que hizo?¿Cómo describirías este gráfico? Recuerda siempre consultar la documentación.\n",
        "\n",
        "Este grafico se puede mejorar, pasándole el argumento `hue` a la función:"
      ]
    },
    {
      "cell_type": "code",
      "metadata": {
        "id": "-79b3xKfTsq4"
      },
      "source": [
        "sns.pairplot(data, hue = 'species')"
      ],
      "execution_count": null,
      "outputs": []
    },
    {
      "cell_type": "markdown",
      "metadata": {
        "id": "1hVLUM50TsrI"
      },
      "source": [
        "Éste debe ser unos de los gráficos más famosos en ciencia de datos. ¿Te parece útil?¿Por qué?\n",
        "\n",
        "Vuelve a correr las instrucciones, pero descomentando la instrucción `sns.set()` al comienzo del código. ¿Qué cambió?\n",
        "\n",
        "A continuación, veamos cómo generar cada componente de este gráfico de forma independiente.\n",
        "\n",
        "### 1.1 Scatterplot\n",
        "\n",
        "Hacer un diagrama de dispersión con Seaborn es sencillo:"
      ]
    },
    {
      "cell_type": "code",
      "metadata": {
        "id": "m3t00O__TsrO"
      },
      "source": [
        "sns.scatterplot(x=\"petal_length\", y=\"petal_width\", data=data)"
      ],
      "execution_count": null,
      "outputs": []
    },
    {
      "cell_type": "markdown",
      "metadata": {
        "id": "YyYm0tbSTsrf"
      },
      "source": [
        "Y, si le pasamos la especie en el argumento `hue`, el gráfico mejora sustancialmente:"
      ]
    },
    {
      "cell_type": "code",
      "metadata": {
        "id": "0IDzwT9yTsrl"
      },
      "source": [
        "sns.scatterplot(x=\"petal_length\", y=\"petal_width\", hue=\"species\" , data=data)"
      ],
      "execution_count": null,
      "outputs": []
    },
    {
      "cell_type": "markdown",
      "metadata": {
        "id": "qFbjcrGDTsrx"
      },
      "source": [
        "**Ejercicio:** intenta hacer este mismo gráfico con Matplotlib.\n",
        "\n",
        "### 1.2 Histogramas\n",
        "\n",
        "Los histogramas en Seaborn son un poco más versátiles que los de Matplotlib. Veamos cómo:"
      ]
    },
    {
      "cell_type": "code",
      "metadata": {
        "id": "Ao-Zx5MpTsr0"
      },
      "source": [
        "sns.distplot(data['petal_length'], bins = 20)"
      ],
      "execution_count": null,
      "outputs": []
    },
    {
      "cell_type": "markdown",
      "metadata": {
        "id": "K20KF7cgTssE"
      },
      "source": [
        "**Ejercicio:** Modificar los siguientes argumentos de la función `distplot` y observar qué hacen: `hist`,`kde` (prestar atención a la escala en el eje *y*) y `rug`.\n",
        "\n",
        "Otra tipo de visualización que combina ambas opciones es `jointplot`:"
      ]
    },
    {
      "cell_type": "code",
      "metadata": {
        "id": "mWHhJkJGTssK"
      },
      "source": [
        "sns.jointplot(x=\"petal_length\", y=\"petal_width\", marginal_kws=dict(bins=15, rug=True), data=data)"
      ],
      "execution_count": null,
      "outputs": []
    },
    {
      "cell_type": "markdown",
      "metadata": {
        "id": "37qBiLwFTssZ"
      },
      "source": [
        "Esperamos con estos primeros ejemplos haberlos convencido que el uso de Seaborn facilita la visualización de datos provienentes de un DataFrame respecto a la utilización de (solo) Matplotlib. A continuación vamos a explorar otras funciones de visualización que nos ofrece esta libreria.\n",
        "\n",
        "## 2. Categorical Plots\n",
        "\n",
        "Como su nombre lo indica, los categorical plots son gráficos donde una de las variables a graficar es de tipo categórica. Este tipo de gráficos son muy usados en Data Science y Seaborn tiene algunas funciones especiales dedicada a ellos.\n",
        "\n",
        "Una función útil para contar las diferentes etiquetas de una variable categórica es `countplot`:"
      ]
    },
    {
      "cell_type": "code",
      "metadata": {
        "id": "yVHhea8jTssd"
      },
      "source": [
        "sns.countplot(data = data, x = \"species\")"
      ],
      "execution_count": null,
      "outputs": []
    },
    {
      "cell_type": "markdown",
      "metadata": {
        "id": "t2IVZ8HhTssr"
      },
      "source": [
        "Así, obtenemos tres barras de altura 50, una por especie, representando la cantidad de instancias que hay en el dataset de cada una.\n",
        "\n",
        "Muchas veces queremos graficar una variable numérica en función de una variable categórica. Por ejemplo, el ancho del pétalo según la especie. Veamos cómo realizar un grafico de este tipo en Matplotlib:"
      ]
    },
    {
      "cell_type": "code",
      "metadata": {
        "id": "_MlMP21xTssv"
      },
      "source": [
        "especie = data['species']\n",
        "ancho_petalo = data['petal_width']\n",
        "plt.scatter(especie,ancho_petalo)"
      ],
      "execution_count": null,
      "outputs": []
    },
    {
      "cell_type": "markdown",
      "metadata": {
        "id": "doTolG6UTss9"
      },
      "source": [
        "Como podemos observar el resultado no es muy satisfactorio. Al estar todos los puntos sobre una misma linea, no se pueden distinguir entre sí. \n",
        "\n",
        "Veamos ahora cómo realizar el mismo gráfico son Seaborn, usando la función `catplot`:"
      ]
    },
    {
      "cell_type": "code",
      "metadata": {
        "id": "0hqrmgCdTstB"
      },
      "source": [
        "sns.catplot(data = data, x = \"species\", y = \"petal_width\")"
      ],
      "execution_count": null,
      "outputs": []
    },
    {
      "cell_type": "markdown",
      "metadata": {
        "id": "XdNWn7HoTstO"
      },
      "source": [
        "Como se puede observar, Seaborn le da automáticamente distintos colores a las categorías y además los separa para poder identificar la cantidad de puntos en cada grupo con facilidad.\n",
        "\n",
        "**Ejercicio - Challenge**:\n",
        "\n",
        "1. Realizar con Seaborn un gráfico del largo del pétalo según la especie.\n",
        "1. Realizar el mismo gráfico, pero ahora como gráfico de barras. **Pista**: ver el parametro `kind` de la función `catplot` o la función `barplot`.\n",
        "1. ¿Que representan las barritas negras?\n",
        "1. Averiguar la utilidad de los parámetros `ci` y `estimator`."
      ]
    },
    {
      "cell_type": "code",
      "metadata": {
        "id": "-T7-QAtSTstS"
      },
      "source": [
        "# COMPLETAR"
      ],
      "execution_count": null,
      "outputs": []
    },
    {
      "cell_type": "markdown",
      "metadata": {
        "id": "04LQCCB3Tst4"
      },
      "source": [
        "### 3. Diagrama de Cajas\n",
        "\n",
        "Generar diagramas de cajas es muy sencillo. Podemos generar el diagrama de una columna de la siguiente manera:"
      ]
    },
    {
      "cell_type": "code",
      "metadata": {
        "id": "bOirPPOcTst6"
      },
      "source": [
        "sns.boxplot(data = data, y = \"petal_width\")\n",
        "# sns.boxplot(data = data, x = \"petal_width\")"
      ],
      "execution_count": null,
      "outputs": []
    },
    {
      "cell_type": "markdown",
      "metadata": {
        "id": "AJskIgxZTsuE"
      },
      "source": [
        "Pero aporta mucha más información si separamos por especie."
      ]
    },
    {
      "cell_type": "code",
      "metadata": {
        "id": "IF-SqhxlTsuI"
      },
      "source": [
        "sns.boxplot(data = data, x = 'species', y = \"petal_width\")"
      ],
      "execution_count": null,
      "outputs": []
    },
    {
      "cell_type": "markdown",
      "metadata": {
        "id": "NGSQxJVYTsuX"
      },
      "source": [
        "## 4. Heatmaps y correlación\n",
        "\n",
        "Correr la siguiente celda y googlear: ¿Qué es un heatmap?¿Cómo se hacen en Seaborn?¿Qué hacía la función `corr()` de Pandas?¿Cuáles son sus parámetros?¿Qué hace el parámetro `method`? Interpretar el gráfico obtenido."
      ]
    },
    {
      "cell_type": "code",
      "metadata": {
        "id": "K-JnY_mpTsub"
      },
      "source": [
        "corr = data.drop(columns = 'species').corr()\n",
        "plt.figure(figsize=(8,8))\n",
        "sns.heatmap(corr, cbar = True,  square = True, annot=True, fmt= '.2f',annot_kws={'size': 15},\n",
        "           xticklabels= data.drop(columns = 'species').columns, \n",
        "           yticklabels= data.drop(columns = 'species').columns,\n",
        "           cmap= 'coolwarm')\n",
        "plt.xticks(rotation = 45)\n",
        "plt.yticks(rotation = 45)\n",
        "plt.show()"
      ],
      "execution_count": null,
      "outputs": []
    },
    {
      "cell_type": "markdown",
      "metadata": {
        "id": "6vxI3sEVTsuk"
      },
      "source": [
        "## 5. Combinando con Matplotlib\n",
        "\n",
        "Como Seaborn corre sobre Matplotlib, se pueden combinar instrucciones de ambas librerías sin problemas. Veamos un ejemplo:"
      ]
    },
    {
      "cell_type": "code",
      "metadata": {
        "id": "J4OWKMr8Tsuo"
      },
      "source": [
        "sns.boxplot(data = data, x = 'species', y = \"petal_width\")\n",
        "plt.title('Diagrama de caja del ancho del pétalo para las distintas especies de Iris')\n",
        "\n",
        "# Con estas instrucciones reemplazamos las etiquetas en los ejes que pone Seaborn\n",
        "plt.xlabel('Especie')\n",
        "plt.ylabel('Ancho del pétalo (cm)')"
      ],
      "execution_count": null,
      "outputs": []
    },
    {
      "cell_type": "markdown",
      "metadata": {
        "id": "5AwBf2H3Tsu2"
      },
      "source": [
        "## Ejercitación\n",
        "\n",
        "Elige uno de los datasets disponibles en Seaborn o el dataset de críticas de vinos del encuentro anterior. Aplica las herramientas vistas de Pandas y de Seaborn para obtener una primera aproximación a las características del conjunto de datos elegido."
      ]
    }
  ]
}