{
 "cells": [
  {
   "cell_type": "markdown",
   "metadata": {
    "id": "U8zyY9Zz1Py3"
   },
   "source": [
    "# Estadística Descriptiva y Pandas\n",
    "\n",
    "El objetivo del siguiente notebook es, además de repasar conceptos de estadística, que sigas aprendiendo a operar con Numpy y que, además, incorpores Pandas a tu caja de herramientas.\n",
    "\n",
    "## 1. Estadística Descriptiva\n",
    "\n",
    "La Estadística Descriptiva nos sirve para comenzar a analizar y entender un conjunto de datos. En el caso de datos numéricos, lo hace obteniendo *valores estadísticos* que, de alguna forma, reemplazan a nuestros datos. Por ejemplo, es muy difícil leer y *entender* la edad de 1000 personas. Pero con un grupo reducido de valores estadísticos (mínimo, máximo, media y desviación estándar, etc.) podemos aproximarnos a ese conjunto de una manera mucho más comprensible. Veamos dos medidas muy importantes:\n",
    "\n",
    "**Promedio**\n",
    "\n",
    "Dados $n$ números $x_1,x_2,...,x_n$, el promedio o media es \n",
    "\n",
    "$$\\overline{x} = \\frac{1}{n}\\sum_{i=1}^{n} x_i = \\frac{x_1 + x_2 + ... + x_n}{n}$$\n",
    "\n",
    "**Desviación Estándar**\n",
    "\n",
    "La varianza y la desviación estándar nos dan una idea de cuán \"dispersos\" están los valores con respecto a su promedio.\n",
    "\n",
    "$$ Var = \\frac{\\sum_{i=1}^{n} (x_i -\\overline{x})^2}{n - 1}$$\n",
    "\n",
    "La desviación estándar es la raiz cuadrada de la varianza. En general se usa la letra griega $\\sigma$ para representarla o las siglas $SD$:\n",
    "\n",
    "$$ SD = \\sqrt{\\frac{\\sum_{i=1}^{n} (x_i -\\overline{x})^2}{n - 1}}$$\n",
    "\n",
    "$$ SD = \\sqrt{Var}$$\n",
    "\n",
    "\n",
    "**Comentarios**:\n",
    "1. Dado un conjunto de números, el promedio suele ser considerado el número más representativo de ese conjunto. Esto no siempre es así. Pensá o googleá por qué.\n",
    "2. Al conjunto de números $x_1,...,x_n$ los pueden encontrar por el nombre de *población* o *muestra* (¡Ojo que no estamos diciendo que *población* y *muestra* sean lo mismo!).\n",
    "\n",
    "### Challenge:\n",
    "\n",
    "Vamos a utilizar de excusa la estadística descriptiva para hacer un desafío de programación:\n",
    "\n",
    "Dadas la siguiente lista de números, escribir una rutina que calcule su promedio, su varianza y desviación estándar. **Pistas:**\n",
    "* Probablemente te sea muy útil usar lo que hiciste para ejercicios anteriores.\n",
    "* Para calcular la varianza y la desviación estándar, usa el resultado que obtuviste al calcular el promedio."
   ]
  },
  {
   "cell_type": "code",
   "execution_count": 1,
   "metadata": {
    "id": "lqCdXnSP1PzC"
   },
   "outputs": [
    {
     "ename": "SyntaxError",
     "evalue": "invalid syntax (<ipython-input-1-95e85ee5aaf0>, line 4)",
     "output_type": "error",
     "traceback": [
      "\u001b[1;36m  File \u001b[1;32m\"<ipython-input-1-95e85ee5aaf0>\"\u001b[1;36m, line \u001b[1;32m4\u001b[0m\n\u001b[1;33m    float promedio = np.mean(x_s)\u001b[0m\n\u001b[1;37m          ^\u001b[0m\n\u001b[1;31mSyntaxError\u001b[0m\u001b[1;31m:\u001b[0m invalid syntax\n"
     ]
    }
   ],
   "source": [
    "import numpy as np\n",
    "x_s = [1,2,3,1,2,2,3,4,1,2,3,4,1,2,4]\n",
    "# COMPLETAR\n",
    "float promedio = np.mean(x_s)"
   ]
  },
  {
   "cell_type": "code",
   "execution_count": null,
   "metadata": {
    "id": "PosCOxzC1Pzl"
   },
   "outputs": [],
   "source": [
    "# COMPLETAR"
   ]
  },
  {
   "cell_type": "markdown",
   "metadata": {
    "id": "uMmPPSpQ1Pz9"
   },
   "source": [
    "¿Cómo te fue con el Challenge? Si no pudiste resolverlo, no te preocupes. ¡NumPy tiene funciones ya incorporadas que calcula algunos estadísticos sobre un arreglo!\n",
    "\n",
    "### 1.2 Estadística con NumPy\n",
    "\n",
    "Veamos cómo se calculan, en NumPy, el promedio, varianza y desviación estándar sobre un arreglo."
   ]
  },
  {
   "cell_type": "code",
   "execution_count": null,
   "metadata": {
    "id": "nyJsUM4j1P0C"
   },
   "outputs": [],
   "source": [
    "import numpy as np\n",
    "\n",
    "x_s = np.array([1,2,3,1,2,2,3,4,1,2,3,4,1,2,4])\n",
    "\n",
    "# Promedio\n",
    "print(x_s.mean())\n",
    "\n",
    "# Varianza\n",
    "print(x_s.var(ddof = 1))\n",
    "\n",
    "# Desviación estándar\n",
    "print(x_s.std(ddof = 1))"
   ]
  },
  {
   "cell_type": "markdown",
   "metadata": {
    "id": "NuADSmLC1P0S"
   },
   "source": [
    "**Para investigar**: ¿qué es el parámetro `ddof` de esa función?¿Qué pasa si no lo usas? Esta pregunta es **difícil** y requiere cierto conocimiento previo. Pero intenta, de todas formas, averiguarlo.\n",
    "\n",
    "NumPy también puede calcular percentilos (¡googlear!), cuantilos, mínimos y máximos:"
   ]
  },
  {
   "cell_type": "code",
   "execution_count": null,
   "metadata": {
    "id": "BwBr3Gb_1P0Y"
   },
   "outputs": [],
   "source": [
    "print(np.percentile(x_s,75))\n",
    "print(np.quantile(x_s,0.5))\n",
    "print(np.min(x_s))\n",
    "print(np.max(x_s))"
   ]
  },
  {
   "cell_type": "markdown",
   "metadata": {
    "id": "31cRSU0v1P0n"
   },
   "source": [
    "**Para investigar**: ¿Cuál es la diferencia entre `np.percentile()` y `np.quantile()`?¿Cómo obtendrías los cuartiles a partir de ellos?\n",
    "\n",
    "### 1.3 Generación de muestras al azar\n",
    "\n",
    "Una cosa sumamente útil que podemos hacer con NumPy es generar muestras al azar. Esto no permite simular situaciones. Por ejemplo, las tiradas de dados que aparecen en el GIF de la bitácora. Estas funciones las encontramos dentro del paquete `random` de NumPy, cuya documentación pueden encontrar [aquí](https://docs.scipy.org/doc/numpy-1.15.0/reference/routines.random.html). Veamos cómo lo podemos hacer:"
   ]
  },
  {
   "cell_type": "code",
   "execution_count": null,
   "metadata": {
    "id": "LveHBaed1P0u"
   },
   "outputs": [],
   "source": [
    "muestras_dado = np.random.randint(1,7, size = 15)\n",
    "print(muestras_dado)\n",
    "\n",
    "### También se puede\n",
    "muestras_dado = np.random.choice([1,2,3,4,5,6], size = 15)\n",
    "print(muestras_dado)"
   ]
  },
  {
   "cell_type": "markdown",
   "metadata": {
    "id": "iw5KJ1sN1P08"
   },
   "source": [
    "### Ejercitación\n",
    "\n",
    "**Ejercicio 1:** ¿Cuál será el promedio de los valores obtenidos al tirar muchas veces un dado?¿Te animás a averiguar - o calcular - cuánto *debería dar* antes de hacerlo? Vamos a tratar de responder esta pregunta **simulando** un dado. Para ello:\n",
    "* Obtener muestras al azar de un dado usando lo que vimos anteriormente.\n",
    "* Calcular su promedio y desviación estándar.\n",
    "\n",
    "¿A partir de qué cantidad de muestras el promedio se \"estabiliza\"?"
   ]
  },
  {
   "cell_type": "code",
   "execution_count": null,
   "metadata": {
    "id": "x5AP10hv1P1A",
    "scrolled": true
   },
   "outputs": [],
   "source": [
    "# COMPLETAR"
   ]
  },
  {
   "cell_type": "markdown",
   "metadata": {
    "id": "YBg5eGbD1P1P"
   },
   "source": [
    "**Ejercicio 2:** Simular un dado cargado para favorecer un valor de su elección. Por ejemplo, el seis. Para ello, consultar la ayuda de la función `np.random.choice`. ¿Cómo se modifica el promedio y la desviación estándar?"
   ]
  },
  {
   "cell_type": "code",
   "execution_count": null,
   "metadata": {
    "id": "bsRijYBY1P1U"
   },
   "outputs": [],
   "source": [
    "# COMPLETAR"
   ]
  },
  {
   "cell_type": "markdown",
   "metadata": {
    "id": "E49i11Xa1P1i"
   },
   "source": [
    "## 2. Pandas \n",
    "\n",
    "Pandas es la librería más conocida de Python para manipular y analizar datos. Está montada sobre NumPy, por lo cual muchas funcionalidades son similares. Utilizaremos Pandas para trabajar con datasets estructurados (y bueno, ¡bastante más!). \n",
    "\n",
    "Así como NumPy nos proveé de los *arreglos* y con ellos accedemos a muchas nuevas funcionalidades, Pandas nos provee de los *Data Frames* y las *Series*. Por lejos, el objeto más utilizados es el primero, los Data Frames. \n",
    "\n",
    "\n",
    "En esta sección empezaremos a:\n",
    "\n",
    "1. Familiarizarnos con los Data Frames de Pandas, manipular sus funciones básicas y entender la lógica de las mismas (¡para después googlearlas!).\n",
    "2. Empezar a trabajar con Datasets.\n",
    "\n",
    "**¡Manos a la obra!**\n",
    "\n",
    "### 2.1 Primeros pasos\n",
    "\n",
    "Importamos la librería."
   ]
  },
  {
   "cell_type": "code",
   "execution_count": null,
   "metadata": {
    "id": "j24h6xmv1P1o"
   },
   "outputs": [],
   "source": [
    "import pandas as pd"
   ]
  },
  {
   "cell_type": "markdown",
   "metadata": {
    "id": "FyLT8HgC1P11"
   },
   "source": [
    "Vamos a crear nuestro propio dataset. Es decir, agarrar a mano los datos poblacionales de http://www.ign.gob.ar/nuestrasactividades/geografia/datosargentina/divisionpolitica y guardarlos en una variable `data_dic`.¿Qué tipo de variable es, desde el punto de vista de la programación?\n",
    "\n",
    "**Nota**: la población está en número de habitantes y la superficie en km2."
   ]
  },
  {
   "cell_type": "code",
   "execution_count": null,
   "metadata": {
    "id": "WQq6LK041P17"
   },
   "outputs": [],
   "source": [
    "data_dic = {\"Jurisdiccion\":[\"CABA\",\"Buenos Aires\",\"Catamarca\",\"Chaco\",\"Chubut\",\"Córdoba\",\"Jujuy\",\"Mendoza\",\"Misiones\",\"Río Negro\",\"Santa Cruz\",\n",
    "                           \"Santa Fe\"],\"Poblacion\":[2890151,15625084,367828,1055259,509108,3308876,673307,1738929,\n",
    "                                                   1101593,638645,273964,3194537],\"Superficie\":\n",
    "           [200,307521,102606,99633,509108,165321,53219,148827,29801,203013,243943,133007]}"
   ]
  },
  {
   "cell_type": "markdown",
   "metadata": {
    "id": "rGxjjI1c1P2H"
   },
   "source": [
    "Así como podemos crear arreglos a partir de listas, podemos crear Data Frames a partir de diccionarios."
   ]
  },
  {
   "cell_type": "code",
   "execution_count": null,
   "metadata": {
    "id": "0SMR3d331P2L"
   },
   "outputs": [],
   "source": [
    "# Creamos el DataFrame\n",
    "data_pandas = pd.DataFrame(data_dic)\n",
    "data_pandas"
   ]
  },
  {
   "cell_type": "markdown",
   "metadata": {
    "id": "2UlnyR6O1P2d"
   },
   "source": [
    "**Ejercicio 1:** investigar las funciones que se implementan en la próxima celda. ¿Qué hacen? ¿Para qué piensan que pueden ser útiles?"
   ]
  },
  {
   "cell_type": "code",
   "execution_count": null,
   "metadata": {
    "id": "Y5wTHya41P2i"
   },
   "outputs": [],
   "source": [
    "# data_pandas.head()\n",
    "# data_pandas.tail()\n",
    "# data_pandas.count()\n",
    "# data_pandas.shape"
   ]
  },
  {
   "cell_type": "markdown",
   "metadata": {
    "id": "uozfwkNo1P2w"
   },
   "source": [
    "**Ejercicio 2:** agregar al Dataset la información correspondiente a alguna jurisdicción faltante. Recuerden que, al tratarse de una nueva instancia, corresponde a una fila. Pista: googlear \"add row to pandas dataframe\" o similar. No hay una única forma de hacerlo."
   ]
  },
  {
   "cell_type": "code",
   "execution_count": null,
   "metadata": {
    "id": "i__cR4Hh1P2z"
   },
   "outputs": [],
   "source": [
    "# COMPLETAR"
   ]
  },
  {
   "cell_type": "markdown",
   "metadata": {
    "id": "3XnYJjid1P2_"
   },
   "source": [
    "**Ejercicio 3:** Investigar las funciones columns e index. ¿Qué hacen? ¿Qué tipo de dato es su salida?¿A qué tipo de dato conocido se parecen?"
   ]
  },
  {
   "cell_type": "code",
   "execution_count": null,
   "metadata": {
    "id": "3TypUl1A1P3B"
   },
   "outputs": [],
   "source": [
    "# data_pandas.columns\n",
    "# data_pandas.index"
   ]
  },
  {
   "cell_type": "markdown",
   "metadata": {
    "id": "EK-iDt4a1P3M"
   },
   "source": [
    "**Ejercicio 4:** ¿Qué hacen las siguientes operaciones?"
   ]
  },
  {
   "cell_type": "code",
   "execution_count": null,
   "metadata": {
    "id": "UAg6Cz5v1P3P"
   },
   "outputs": [],
   "source": [
    "# data_pandas['Jurisdiccion']\n",
    "# data_pandas[['Jurisdiccion','Poblacion']]\n",
    "# data_pandas.Jurisdiccion\n",
    "# 'Poblacion' in data_pandas"
   ]
  },
  {
   "cell_type": "markdown",
   "metadata": {
    "id": "osTgGkDJ1P3X"
   },
   "source": [
    "**Ejercicio 5:** Agregar una columna al dataframe que corresponda a la densidad de cada jurisdicción. Usar la información que **ya está** en el dataset."
   ]
  },
  {
   "cell_type": "code",
   "execution_count": null,
   "metadata": {
    "id": "8E5lnSqG1P3c"
   },
   "outputs": [],
   "source": [
    "# COMPLETAR"
   ]
  },
  {
   "cell_type": "markdown",
   "metadata": {
    "id": "svpqtSdf1P3l"
   },
   "source": [
    "### 2.2 Filtrado por máscara.\n",
    "\n",
    "Lo que veremos a continuación es **muy importante**, ya que es una operación que haremos muchas veces. Su implementación es muy parecida tanto en NumPy como en Pandas, por lo que veremos cómo hacerlo primero en NumPy luego en Pandas.\n",
    "\n",
    "Supongamos que hacemos 50 tiradas de un dado, como hicimos en la sección anterior, pero queremos seleccionar solamente aquellas tiradas que fueron menores que cuatro. ¿Cómo podemos hacerlo?"
   ]
  },
  {
   "cell_type": "code",
   "execution_count": null,
   "metadata": {
    "id": "w5IZFKI_1P3o"
   },
   "outputs": [],
   "source": [
    "muestras_dado = np.random.randint(1,7, size = 50)\n",
    "print(muestras_dado)"
   ]
  },
  {
   "cell_type": "markdown",
   "metadata": {
    "id": "0QEABcgZ1P3y"
   },
   "source": [
    "Lo que podemos hacer es crear una máscara:"
   ]
  },
  {
   "cell_type": "code",
   "execution_count": null,
   "metadata": {
    "id": "STxwWNOi1P32"
   },
   "outputs": [],
   "source": [
    "mascara = muestras_dado < 4\n",
    "print(mascara)\n",
    "print(type(mascara))"
   ]
  },
  {
   "cell_type": "markdown",
   "metadata": {
    "id": "IuAkOYoe1P4B"
   },
   "source": [
    "Notar que `mascara` es un arreglo de booleanos, con `True` en los valores que cumplen la condición y `False` donde no. Una vez que creamos la máscara, podemos usarla para seleccionar de nuestro arreglo aquellos elementos que queríamos:"
   ]
  },
  {
   "cell_type": "code",
   "execution_count": null,
   "metadata": {
    "id": "Cw8ZM97f1P4D"
   },
   "outputs": [],
   "source": [
    "print(muestras_dado[mascara])"
   ]
  },
  {
   "cell_type": "markdown",
   "metadata": {
    "id": "0rjN7J3A1P4M"
   },
   "source": [
    "Notar que con `mascara.sum()` podemos contar cuántas veces se cumple la condición que pedimos."
   ]
  },
  {
   "cell_type": "code",
   "execution_count": null,
   "metadata": {
    "id": "cUHV-_OC1P4Q"
   },
   "outputs": [],
   "source": [
    "print(mascara.sum())"
   ]
  },
  {
   "cell_type": "markdown",
   "metadata": {
    "id": "UosUz_mI1P4X"
   },
   "source": [
    "A veces, podemos hacerlo en una sola línea. Supongamos que queremos aquellas tiradas donde salió seis:"
   ]
  },
  {
   "cell_type": "code",
   "execution_count": null,
   "metadata": {
    "id": "do9s_9vn1P4Y"
   },
   "outputs": [],
   "source": [
    "print(muestras_dado[muestras_dado == 6])"
   ]
  },
  {
   "cell_type": "markdown",
   "metadata": {
    "id": "ZI1fVYFf1P4g"
   },
   "source": [
    "**En Pandas**\n",
    "\n",
    "Supongamos que queremos seleccionar aquellas jurisdicciones cuya población sea mayor a un millón de habitantes. Podemos hacerlo de la siguiente forma:"
   ]
  },
  {
   "cell_type": "code",
   "execution_count": null,
   "metadata": {
    "id": "n2sWVVBz1P4i"
   },
   "outputs": [],
   "source": [
    "data_pandas[data_pandas.Poblacion > 1000000]"
   ]
  },
  {
   "cell_type": "markdown",
   "metadata": {
    "id": "pZo21ebL1P5G"
   },
   "source": [
    "¿Y si queremos seleccionar aquellas jurisdicciones cuya población sea mayor a un millón de habitantes **y** su superficie menor a cien mil km2?"
   ]
  },
  {
   "cell_type": "code",
   "execution_count": null,
   "metadata": {
    "id": "Gia9i3AB1P5L"
   },
   "outputs": [],
   "source": [
    "mascara = np.logical_and(data_pandas.Poblacion > 1000000, data_pandas.Superficie < 100000)\n",
    "data_pandas[mascara]\n",
    "\n",
    "### Es equivalente\n",
    "# data_pandas[(data_pandas.Poblacion > 1000000) & (data_pandas.Superficie < 100000)]"
   ]
  },
  {
   "cell_type": "markdown",
   "metadata": {
    "id": "Z057NM351P5W"
   },
   "source": [
    "**Ejercicio:** seleccionar aquellas jurisdicciones cuya población sea menor a 500 mil habitantes **o** su superficie mayor a cien mil km2."
   ]
  },
  {
   "cell_type": "code",
   "execution_count": null,
   "metadata": {
    "id": "EWJwPrS61P5Z"
   },
   "outputs": [],
   "source": [
    "# COMPLETAR"
   ]
  },
  {
   "cell_type": "markdown",
   "metadata": {
    "id": "H1nzSLbJ1P5g"
   },
   "source": [
    "## 2.3 Iris dataset\n",
    "\n",
    "¿Pero siempre vamos a tener que crear un diccionario y luego pasarlo a un Data Frame? Evidentemente, esta opción no parece muy cómoda, en particular para conjuntos de datos de gran volumen. Veamos cómo trabajamos con un conjunto de datos preexistente.\n",
    "\n",
    "\n",
    "**Aviso**: Esta sección es, en realidad, un ejercicio. Para hacerlo, debes ir googleando y consultando la documentación que consideres apropiada. Obviamente, también puedes consultar a tu mentor/a.\n",
    "\n",
    "Vamos a trabajar con el Iris Dataset, probablemente uno de los conjuntos de datos más famosos, ya que muchos ejemplos se realizan con él. Es un dataset sencillo pero ilustrativo.\n",
    "\n",
    "\n",
    "1. Abrir con Pandas el archivo 'DS_Bitácora_04_iris.csv' (¿Qué tipo de archivo es?) e imprimir sus primeros cinco elementos. Pista: `pd.read...()`."
   ]
  },
  {
   "cell_type": "code",
   "execution_count": null,
   "metadata": {
    "id": "c6WItGqC1P5i"
   },
   "outputs": [],
   "source": [
    "# COMPLETAR"
   ]
  },
  {
   "cell_type": "markdown",
   "metadata": {
    "id": "IcsJiYe31P5p"
   },
   "source": [
    "2. ¿Cuántas columnas (features) tiene?¿Cuáles son sus nombres?¿Y cuántas filas (instancias)? Pistas: `shape`, `columns`."
   ]
  },
  {
   "cell_type": "code",
   "execution_count": null,
   "metadata": {
    "id": "BqDWhNM51P5r"
   },
   "outputs": [],
   "source": [
    "# COMPLETAR"
   ]
  },
  {
   "cell_type": "markdown",
   "metadata": {
    "id": "LnO-Yoyh1P50"
   },
   "source": [
    "3. Obtener el valor medio y desviación estándar de cada columna. ¿Hay alguna función de Pandas que nos dé aún más estadísticos? Pistas: `describe`."
   ]
  },
  {
   "cell_type": "code",
   "execution_count": null,
   "metadata": {
    "id": "wTPFg2yT1P52"
   },
   "outputs": [],
   "source": [
    "# COMPLETAR"
   ]
  },
  {
   "cell_type": "markdown",
   "metadata": {
    "id": "h0hQVgt21P58"
   },
   "source": [
    "4. ¿Creen que todas las columnas tienen información? *Tirar* la columna que crean que está demás. Dependiendo de la función que uses - hay más de una opción -, tal vez tengas que prestar **mucha** atención al argumento `inplace`. Pista: `drop`, `del`."
   ]
  },
  {
   "cell_type": "code",
   "execution_count": null,
   "metadata": {
    "id": "FMWb9yIz1P5_"
   },
   "outputs": [],
   "source": [
    "# COMPLETAR"
   ]
  },
  {
   "cell_type": "markdown",
   "metadata": {
    "id": "xZc3ROA1uwsi"
   },
   "source": [
    "5. ¿Para qué sirven `loc` e `iloc`? Crea algunos ejemplos."
   ]
  },
  {
   "cell_type": "code",
   "execution_count": null,
   "metadata": {
    "id": "o7t65DAn1P6H"
   },
   "outputs": [],
   "source": []
  }
 ],
 "metadata": {
  "colab": {
   "collapsed_sections": [],
   "name": "DS_Bitácora_04_Estadística_y_Pandas.ipynb",
   "provenance": []
  },
  "kernelspec": {
   "display_name": "Python 3",
   "language": "python",
   "name": "python3"
  },
  "language_info": {
   "codemirror_mode": {
    "name": "ipython",
    "version": 3
   },
   "file_extension": ".py",
   "mimetype": "text/x-python",
   "name": "python",
   "nbconvert_exporter": "python",
   "pygments_lexer": "ipython3",
   "version": "3.8.5"
  }
 },
 "nbformat": 4,
 "nbformat_minor": 1
}
