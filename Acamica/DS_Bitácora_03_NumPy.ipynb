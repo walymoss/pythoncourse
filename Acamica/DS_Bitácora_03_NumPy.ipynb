{
 "cells": [
  {
   "cell_type": "markdown",
   "metadata": {
    "id": "Ev_oEXjx6w9Q"
   },
   "source": [
    "# Programación y NumPy\n",
    "\n",
    "En la primera parte de este notebook seguiremos explorando algunas cuestiones de programación. En la segunda parte, empezaremos a trabajar con NumPy, nuestra primera librería.\n",
    "\n",
    "## 1. Programación\n",
    "\n",
    "### 1.1 Operaciones Lógicas\n",
    "\n",
    "Comencemos viendo cómo implementar lo que vimos en la bitácora de operaciones lógicas. Te recomendamos tener la bitácora cerca así puedes consultarla.\n",
    "\n",
    "En primer lugar, la operación `not` es simplemente la negación del booleano."
   ]
  },
  {
   "cell_type": "code",
   "execution_count": 3,
   "metadata": {
    "id": "kv2eNRpePBOy"
   },
   "outputs": [
    {
     "output_type": "stream",
     "name": "stdout",
     "text": [
      "False\nTrue\n"
     ]
    }
   ],
   "source": [
    "variable_1 = True\n",
    "print(not(variable_1))\n",
    "\n",
    "variable_2 = False\n",
    "print(not(variable_2))"
   ]
  },
  {
   "cell_type": "code",
   "execution_count": 2,
   "metadata": {
    "id": "LpCJFNp56w-F"
   },
   "outputs": [
    {
     "output_type": "error",
     "ename": "SyntaxError",
     "evalue": "invalid syntax (<ipython-input-2-8c135756d491>, line 1)",
     "traceback": [
      "\u001b[1;36m  File \u001b[1;32m\"<ipython-input-2-8c135756d491>\"\u001b[1;36m, line \u001b[1;32m1\u001b[0m\n\u001b[1;33m    La operación `and` nos devuelve `True` unicamente cuando ambas variables son verdaderas. Experimentar con la celda inferior y comprobar su tabla de verdad.\u001b[0m\n\u001b[1;37m       ^\u001b[0m\n\u001b[1;31mSyntaxError\u001b[0m\u001b[1;31m:\u001b[0m invalid syntax\n"
     ]
    }
   ],
   "source": [
    "La operación `and` nos devuelve `True` unicamente cuando ambas variables son verdaderas. Experimentar con la celda inferior y comprobar su tabla de verdad."
   ]
  },
  {
   "cell_type": "code",
   "execution_count": 7,
   "metadata": {
    "id": "mHPhaiiJPBOv"
   },
   "outputs": [
    {
     "output_type": "stream",
     "name": "stdout",
     "text": [
      "False\n"
     ]
    }
   ],
   "source": [
    "variable_1 = True\n",
    "variable_2 = False\n",
    "print(variable_1 and variable_2)"
   ]
  },
  {
   "source": [
    "**Ejercicio:** comprobar la tabla de verdad de la operación `or` jugando con la celda siguiente. Viene con trampa(s)."
   ],
   "cell_type": "code",
   "metadata": {
    "id": "tIzs0GsO6w-k"
   },
   "execution_count": null,
   "outputs": []
  },
  {
   "cell_type": "code",
   "execution_count": 12,
   "metadata": {
    "id": "i9QxO0SgPBO3"
   },
   "outputs": [
    {
     "output_type": "stream",
     "name": "stdout",
     "text": [
      "True\n"
     ]
    }
   ],
   "source": [
    "A = True\n",
    "C = False\n",
    "A_or_B = A or C\n",
    "print(A_or_B)"
   ]
  },
  {
   "cell_type": "markdown",
   "metadata": {
    "id": "oa016g7sPBP2"
   },
   "source": [
    "### 1.2 Estructuras de control - Condicionales\n",
    "\n",
    "Los condicionales nos permiten ejecutar o no un bloque de codigo dependiendo de ciertas condiciones. En lenguaje coloquial, vendrían a ser del estilo de \"Si se cumple esta condición, hace A. Si no se cumple, hace B\", donde B puede ser, simplemente, no hacer nada. Veamos qué formas toman.\n",
    "\n",
    "### 1.2.1 If\n",
    "\n",
    "El condicional más simple es el `if`. Para mayor claridad escribiremos la condicion entre parentesis (), aunque esto no es necesario. Su estructura es \n",
    "\n",
    "``` python\n",
    "if condicion:\n",
    "    Si se cumple la condición, se ejecutan estas líneas de código\n",
    "```\n",
    "\n",
    "Veamos algunos ejemplos:"
   ]
  },
  {
   "cell_type": "code",
   "execution_count": 13,
   "metadata": {
    "id": "TYisVuiEPBP4"
   },
   "outputs": [
    {
     "output_type": "stream",
     "name": "stdout",
     "text": [
      "El valor es mayor que 10\n"
     ]
    }
   ],
   "source": [
    "valor = 15\n",
    "if (valor > 10):\n",
    "    print('El valor es mayor que 10')"
   ]
  },
  {
   "cell_type": "markdown",
   "metadata": {
    "id": "-hz-IXpJPBP6"
   },
   "source": [
    "Prestar atención a que la condición debe ser un booleano"
   ]
  },
  {
   "cell_type": "code",
   "execution_count": 14,
   "metadata": {
    "id": "BCXXXwRMPBP7"
   },
   "outputs": [
    {
     "output_type": "stream",
     "name": "stdout",
     "text": [
      "True\n<class 'bool'>\n"
     ]
    }
   ],
   "source": [
    "print(valor > 10)\n",
    "print(type(valor > 10))"
   ]
  },
  {
   "cell_type": "markdown",
   "metadata": {
    "id": "b8smKAgj6w_Y"
   },
   "source": [
    "**Nota:** para comparar variables, tenemos las operaciones menor `<`, mayor `>`, igualdad `==`, menor o igual  `<=`, y mayor o igual `>=`."
   ]
  },
  {
   "cell_type": "code",
   "execution_count": 15,
   "metadata": {
    "id": "ZxEo7yDf6w_b"
   },
   "outputs": [
    {
     "output_type": "stream",
     "name": "stdout",
     "text": [
      "True\nTrue\nTrue\n"
     ]
    }
   ],
   "source": [
    "print(3 == 3)\n",
    "print(3 <= 3)\n",
    "print(3 >= 3)\n"
   ]
  },
  {
   "cell_type": "markdown",
   "metadata": {
    "id": "zaIO1UwlPBP_"
   },
   "source": [
    "### 1.2.2 If, Else\n",
    "\n",
    "A la estrucutra con `if` se le puede agregar otro bloque de codigo que se ejecute si la condición exigida NO se cumple. Esto se logra mediante la expresión `else`.\n",
    "\n",
    "``` python\n",
    "if condicion:\n",
    "    Si se cumple la condición, se ejecutan estas líneas de código\n",
    "else:\n",
    "    Si NO se cumple la condición, se ejecutan estas líneas de código\n",
    "```"
   ]
  },
  {
   "cell_type": "code",
   "execution_count": 16,
   "metadata": {
    "id": "Hf8xuG6iPBP_"
   },
   "outputs": [
    {
     "output_type": "stream",
     "name": "stdout",
     "text": [
      "Esta persona NO se llama Juan\n"
     ]
    }
   ],
   "source": [
    "nombre = 'Pedro'\n",
    "\n",
    "if (nombre == 'Juan'):\n",
    "    print('Esta persona se llama Juan')\n",
    "else:\n",
    "    print('Esta persona NO se llama Juan')"
   ]
  },
  {
   "cell_type": "markdown",
   "metadata": {
    "id": "R5prOWCT6w_3"
   },
   "source": [
    "Prestar atención, nuevamente, a que la condición - lo que está entre paréntesis - es un booleano."
   ]
  },
  {
   "cell_type": "code",
   "execution_count": 17,
   "metadata": {
    "id": "GVfCLIQyPBQB"
   },
   "outputs": [
    {
     "output_type": "execute_result",
     "data": {
      "text/plain": [
       "False"
      ]
     },
     "metadata": {},
     "execution_count": 17
    }
   ],
   "source": [
    "'Juan'=='Pedro'"
   ]
  },
  {
   "cell_type": "markdown",
   "metadata": {
    "id": "1AJNWoqhPBQJ"
   },
   "source": [
    "### 1.2.3 If, Elif, Else\n",
    "A esta estructura se le pueden sumar tantas condiciones encadenadas como uno desee, mediante la expresión `elif`. El orden en que se van chequeando las condiciones depende de su posición, primero se chequea el `if`, luego el primer `elif`, luego el segundo, y así sucesivamente.\n",
    "\n",
    "``` python\n",
    "if condicion_1:\n",
    "    Si se cumple la condicion_1 , se ejecutan estas líneas de código\n",
    "elif condicion_2:\n",
    "    Si se cumple la condicion_2 , se ejecutan estas líneas de código\n",
    "elif condicion_3:\n",
    "    Si se cumple la condicion_3 , se ejecutan estas líneas de código\n",
    "else:\n",
    "    Si NO se cumple ninguna de las condiciones anteriores, se ejecutan líneas celdas de código\n",
    "```\n"
   ]
  },
  {
   "cell_type": "code",
   "execution_count": 18,
   "metadata": {
    "id": "psA9onaFPBQL"
   },
   "outputs": [
    {
     "output_type": "stream",
     "name": "stdout",
     "text": [
      "Esta persona tiene mas de 18 años\n"
     ]
    }
   ],
   "source": [
    "edad = 20\n",
    "\n",
    "if (edad < 18):\n",
    "    print('Esta persona tiene menos de 18 años')\n",
    "elif (edad > 18):\n",
    "    print('Esta persona tiene mas de 18 años')\n",
    "else:\n",
    "    print('Esta persona tiene justo 18 años')"
   ]
  },
  {
   "cell_type": "markdown",
   "metadata": {
    "id": "ZHXdIEkSW6wa"
   },
   "source": [
    "**Ejercicio**: Escriba un bloque de código que, dado un número, imprima la frase \"El numero es par\" si el número es par o la frase \"El numero es impar\" si no lo es."
   ]
  },
  {
   "cell_type": "code",
   "execution_count": 20,
   "metadata": {
    "id": "7uWbEw9BYAL4"
   },
   "outputs": [
    {
     "output_type": "stream",
     "name": "stdout",
     "text": [
      "El número es par\n"
     ]
    }
   ],
   "source": [
    "numero = 18\n",
    "if(numero%2 == 0):\n",
    "    print(\"El número es par\")\n",
    "else:\n",
    "    print(\"El número es impar\")\n",
    "# COMPLETAR"
   ]
  },
  {
   "cell_type": "markdown",
   "metadata": {
    "id": "qecxWClXPBQM"
   },
   "source": [
    "### 1.3 Combinando estructuras de código\n",
    "\n",
    "Las estructuras de loops que vimos en la bitácora anterior y condicionales que aprendimos se pueden combinar para generar comportamientos más complejos. Supongamos que tenemos una lista de edades y nos queremos quedar con aquellas que sean mayores que 18 años. Podemos hacer lo siguiente:"
   ]
  },
  {
   "cell_type": "code",
   "execution_count": null,
   "metadata": {
    "id": "69DHgsOjPBQN"
   },
   "outputs": [],
   "source": [
    "lista_de_edades = [4,20,15,29,11,42,10,18]\n",
    "lista_mayores = []\n",
    "\n",
    "for edad in lista_de_edades:\n",
    "    if (edad >= 18):\n",
    "        # Agremos a la lista de mayores\n",
    "        lista_mayores.append(edad)\n",
    "\n",
    "print(lista_mayores)"
   ]
  },
  {
   "cell_type": "markdown",
   "metadata": {
    "id": "IeZnpQLV6xAv"
   },
   "source": [
    "### 1.4 Operaciones lógicas y estructuras de control\n",
    "\n",
    "A veces, queremos ejecutar una línea de código si se cumple más de una condición. Esto se puede lograr fácilmente usando las operaciones lógicas que vimos. Supongamos que tenemos una lista de números, y queremos seleccionar aquellos que cumplan ciertas propiedades. Por ejemplo, que son mayores o iguales que 5 y menores que 20. Podríamos hacer lo siguiente:"
   ]
  },
  {
   "cell_type": "code",
   "execution_count": 21,
   "metadata": {
    "id": "sC-PhM3o6xA0"
   },
   "outputs": [
    {
     "output_type": "stream",
     "name": "stdout",
     "text": [
      "[6, 17, 5, 6, 13, 15]\n"
     ]
    }
   ],
   "source": [
    "numeros = [0,3,1,4,6,17,3,89,5,6,4,13,25,4,3,23,1,15,2]\n",
    "seleccionados = []\n",
    "for numero in numeros:\n",
    "    if numero >= 5:\n",
    "        if numero < 20:\n",
    "            seleccionados.append(numero)\n",
    "print(seleccionados)"
   ]
  },
  {
   "cell_type": "markdown",
   "metadata": {
    "id": "Tc_42Pgi6xA8"
   },
   "source": [
    "Notar que los números seleccionados cumplen los requisitos que pedimos. Pero también podríamos hacerlo así:"
   ]
  },
  {
   "cell_type": "code",
   "execution_count": 22,
   "metadata": {
    "id": "GgeeSiSK6xBA"
   },
   "outputs": [
    {
     "output_type": "stream",
     "name": "stdout",
     "text": [
      "[6, 17, 5, 6, 13, 15]\n"
     ]
    }
   ],
   "source": [
    "numeros = [0,3,1,4,6,17,3,89,5,6,4,13,25,4,3,23,1,15,2]\n",
    "seleccionados = []\n",
    "for numero in numeros:\n",
    "    if numero >= 5 and numero < 20:\n",
    "        seleccionados.append(numero)\n",
    "print(seleccionados)"
   ]
  },
  {
   "cell_type": "markdown",
   "metadata": {
    "id": "bp86CHMb6xBI"
   },
   "source": [
    "El resultado es el mismo. Si bien esta forma es más compacta, no necesariamente implica que sea mejor. Uno/a elije hacerlo de una u otra forma según lo que le parezca más claro; si ambas condiciones juntas son difíciles de leer, tal vez puedes usar la primera forma.\n",
    "\n",
    "**Ejercicio**: Modifica el ejemplo anterior para que seleccione aquellos números **mayores** que 5 **o** impares."
   ]
  },
  {
   "cell_type": "code",
   "execution_count": 24,
   "metadata": {
    "id": "AVpW_iRp6xBL"
   },
   "outputs": [
    {
     "output_type": "stream",
     "name": "stdout",
     "text": [
      "[17, 89, 13, 25, 23, 15]\n"
     ]
    }
   ],
   "source": [
    "# COMPLETAR\n",
    "numeros = [0,3,1,4,6,17,3,89,5,6,4,13,25,4,3,23,1,15,2]\n",
    "seleccionados = []\n",
    "for numero in numeros:\n",
    "    if numero > 5 and numero % 2==1:\n",
    "        seleccionados.append(numero)\n",
    "print(seleccionados)"
   ]
  },
  {
   "cell_type": "markdown",
   "metadata": {
    "id": "3t8rRW2j6xBU"
   },
   "source": [
    "### Ejercitación\n",
    "\n",
    "**Ejercicio 1**: ¿Qué pasa si sumás, restás, multiplicás o dividís booleanos? Pruébalo e interpreta."
   ]
  },
  {
   "cell_type": "code",
   "execution_count": 25,
   "metadata": {
    "id": "d1FkUOkT6xBW"
   },
   "outputs": [
    {
     "output_type": "stream",
     "name": "stdout",
     "text": [
      "2\n1\n0\n0.0\n1\n"
     ]
    }
   ],
   "source": [
    "print(True + True)\n",
    "print(True + False)\n",
    "print(True * False)\n",
    "print(False / True)\n",
    "print(True//True)\n",
    "# COMP/LETAR"
   ]
  },
  {
   "cell_type": "markdown",
   "metadata": {
    "id": "Rn69wJ-y6xBg"
   },
   "source": [
    "**Ejercicio 2**: Hacer una estructur `if/else` que compare dos variables numéricas `A` y `B` y que decida cuál es mayor e imprima en pantalla \"A es mayor que B\" o \"B es mayor que A\" . "
   ]
  },
  {
   "cell_type": "code",
   "execution_count": 26,
   "metadata": {
    "id": "NUxrQf9A6xBs"
   },
   "outputs": [
    {
     "output_type": "stream",
     "name": "stdout",
     "text": [
      "B es mayor que A\n"
     ]
    }
   ],
   "source": [
    "A = 3\n",
    "B = 4\n",
    "# COMPLETAR\n",
    "if(A>B):\n",
    "    print(\"A es mayor que B\")\n",
    "elif(A<B):\n",
    "    print(\"B es mayor que A\")"
   ]
  },
  {
   "cell_type": "markdown",
   "metadata": {
    "id": "LcNOZBVO6xBz"
   },
   "source": [
    "**Ejercicio 3 - Challenge**: Dada la siguiente lista de numeros:"
   ]
  },
  {
   "cell_type": "code",
   "execution_count": 27,
   "metadata": {
    "id": "nixTh2uwPBQQ"
   },
   "outputs": [],
   "source": [
    "numeros = [4,5,1,3,5,7,8,1,3,4,1,7,8,1,3,4,5,2,1,2,4,5]"
   ]
  },
  {
   "cell_type": "markdown",
   "metadata": {
    "id": "XLWP4dKfPBQS"
   },
   "source": [
    "Escribir una rutina que calcule la suma de los números **pares menores que 5** en esta lista. **Pistas:** \n",
    "* Hay muchas formas de hacerlo, si piensas en más de una, mejor. Pero trata de tomar los ejemplos que vimos en este notebook.\n",
    "* El resultado es 20. \n",
    "* Recuerda que puedes inicializar una variable en cero, y luego ir modificándola en un loop. Hicimos algo así en el notebook de la bitácora anterior con una variable que llamamos `i` y en el ejercicio 5 del mismo notebook."
   ]
  },
  {
   "cell_type": "code",
   "execution_count": 28,
   "metadata": {
    "id": "Rl2hqB-e6xB_"
   },
   "outputs": [
    {
     "output_type": "stream",
     "name": "stdout",
     "text": [
      "20\n"
     ]
    }
   ],
   "source": [
    "# COMPLETAR\n",
    "sum = 0\n",
    "for num in numeros:\n",
    "    if(num%2==0 and num<5):\n",
    "        sum += num\n",
    "print(sum)"
   ]
  },
  {
   "cell_type": "markdown",
   "metadata": {
    "id": "EOZ7KmA46xCG"
   },
   "source": [
    "**Ejercicio 4 - Challenge Opcional**: Dada la siguiente lista de numeros:"
   ]
  },
  {
   "cell_type": "code",
   "execution_count": 10,
   "metadata": {
    "id": "aaYZXXHi6xCI"
   },
   "outputs": [
    {
     "name": "stdout",
     "output_type": "stream",
     "text": [
      "['2', '3', '2', '3', '2', '2', '2', '2', '3', '2', '3', '1', '3', '1', '2', '2', '2', '2', '2', '2', '2', '2', '1', '2', '3', '2', '2', '2', '2', '1', '2', '3', '2', '2', '3', '2', '3', '3', '2', '2', '1', '3', '3', '2', '3', '2', '2', '1', '2', '1', '1', '2', '2', '3', '2', '2', '2', '3', '2', '2', '2', '1', '2', '2', '3', '2', '2', '2', '2', '1', '2', '2', '2', '2', '3', '1', '2', '3', '3', '2', '3', '2', '2', '3', '3', '1', '1', '3', '2', '1', '2', '2', '2', '1', '1', '2', '2', '2', '2', '2', '2', '2', '3', '3', '1', '3', '3', '3', '2', '2', '2', '2', '2', '2', '2', '3', '3', '2', '2', '3', '2', '2', '2', '2', '2', '3', '3', '2', '2', '1', '3', '2', '2', '2', '3', '2', '3', '1', '3', '3', '2', '3', '3', '2', '2', '2', '2', '2', '2', '1', '2', '2', '1', '2', '3', '2', '1', '3', '1', '2', '3', '3', '3', '2', '3', '1', '3', '2', '3', '1', '2', '2', '2', '3', '3', '2', '2', '2', '2', '2', '3', '1', '2', '3', '3', '2', '2', '3', '2', '2', '2', '3', '2', '2', '2', '2', '1', '2', '3', '1', '3', '2', '2', '3', '3', '3', '2', '2', '1', '1']\n"
     ]
    }
   ],
   "source": [
    "numeros_en_texto = ['2', '3', '2', '3', '2', '2', '2', '2', '3', '2', '3', '1', '3', '1', '2', '2', '2', '2', '2', '2', '2', '2', '1', '2', '3', '2', '2', '2', '2', '1', '2', '3', '2', '2', '3', '2', '3', '3', '2', '2', '1', '3', '3', '2', '3', '2', '2', '1', '2', '1', '1', '2', '2', '3', '2', '2', '2', '3', '2', '2', '2', '1', '2', '2', '3', '2', '2', '2', '2', '1', '2', '2', '2', '2', '3', '1', '2', '3', '3', '2', '3', '2', '2', '3', '3', '1', '1', '3', '2', '1', '2', '2', '2', '1', '1', '2', '2', '2', '2', '2', '2', '2', '3', '3', '1', '3', '3', '3', '2', '2', '2', '2', '2', '2', '2', '3', '3', '2', '2', '3', '2', '2', '2', '2', '2', '3', '3', '2', '2', '1', '3', '2', '2', '2', '3', '2', '3', '1', '3', '3', '2', '3', '3', '2', '2', '2', '2', '2', '2', '1', '2', '2', '1', '2', '3', '2', '1', '3', '1', '2', '3', '3', '3', '2', '3', '1', '3', '2', '3', '1', '2', '2', '2', '3', '3', '2', '2', '2', '2', '2', '3', '1', '2', '3', '3', '2', '2', '3', '2', '2', '2', '3', '2', '2', '2', '2', '1', '2', '3', '1', '3', '2', '2', '3', '3', '3', '2', '2', '1', '1']\n",
    "print(numeros_en_texto)"
   ]
  },
  {
   "cell_type": "markdown",
   "metadata": {
    "id": "7csAGf6h6xCQ"
   },
   "source": [
    "Calcule la suma de los unos (1) y los tres (3) en esta lista. Nuevamente, hay muchas formas de hacerlo. **Pistas:** \n",
    "* El resultado es 210.\n",
    "* Puede reciclar código de ejemplos anteriores y del ejercicio anterior.\n",
    "* Se pueden comparar strings, ver ejemplo más arriba.\n",
    "* También se pueden forzar tipos de datos. Por ejemplo, `int('4')` nos devuelve un 4, entero.\n",
    "* Se puede resolver sin usar todas las pistas"
   ]
  },
  {
   "cell_type": "code",
   "execution_count": 12,
   "metadata": {
    "id": "vOghc-f86xCT"
   },
   "outputs": [
    {
     "name": "stdout",
     "output_type": "stream",
     "text": [
      "210\n"
     ]
    }
   ],
   "source": [
    "# COMPLETAR\n",
    "acum = 0\n",
    "for num in numeros_en_texto:\n",
    "    if(int(num)==1 or int(num)==3):\n",
    "       acum = acum + int(num)\n",
    "    \n",
    "print(acum)"
   ]
  },
  {
   "cell_type": "markdown",
   "metadata": {
    "id": "TTDIO6cP6xCc"
   },
   "source": [
    "## 2. Numpy\n",
    "\n",
    "Empezaremos a dar nuestros primeros pasos con NumPy. Es muy importante que googlees y consultes la documentación. Si no la instalaste, ahora es un buen momento.\n",
    "\n",
    "Cuando queremos usar una librería, primero debemos importarla. Más adelante veremos qué significa importar una librería, pero podemos entenderlo como que es un aviso a Python de que vamos a incorporar nuevas funcionalidades; en este caso, desde NumPy."
   ]
  },
  {
   "cell_type": "code",
   "execution_count": 29,
   "metadata": {
    "id": "rPcaeHHt6xCe"
   },
   "outputs": [],
   "source": [
    "import numpy as np"
   ]
  },
  {
   "cell_type": "markdown",
   "metadata": {
    "id": "W6b95ub26xCn"
   },
   "source": [
    "Ahora nuestro ambiente de trabajo sabe que si ponemos algo del estilo `np.` significa que esa funcionalidad la debe buscar en NumPy. **Importante:** Si la librería NO se instaló correctamente, te saltará un mensaje de error.\n",
    "\n",
    "El principal tipo de dato sobre el que trabaja NumPy son los arreglos o arrays. Los arreglos son parecidos a listas y, de hecho, se pueden crear a partir de ellas."
   ]
  },
  {
   "cell_type": "code",
   "execution_count": 28,
   "metadata": {
    "id": "-NYi46pS6xCr"
   },
   "outputs": [
    {
     "name": "stdout",
     "output_type": "stream",
     "text": [
      "[0, 1, 2, 3, 4, 5]\n",
      "[0 1 2 3 4 5]\n"
     ]
    }
   ],
   "source": [
    "lista = [0,1,2,3,4,5]\n",
    "arreglo = np.array(lista)\n",
    "print(lista)\n",
    "print(arreglo)\n",
    "print(lis)"
   ]
  },
  {
   "cell_type": "markdown",
   "metadata": {
    "id": "3GTbMtsp6xCy"
   },
   "source": [
    "Pero son más que una lista. Algunas cosas que no se podían hacer con las listas ahora sí se pueden con arreglos. Recordemos que sumarle un número a toda la lista no estaba permitido"
   ]
  },
  {
   "cell_type": "code",
   "execution_count": 30,
   "metadata": {
    "id": "oBsq7xKM6xC0"
   },
   "outputs": [
    {
     "output_type": "error",
     "ename": "NameError",
     "evalue": "name 'lista' is not defined",
     "traceback": [
      "\u001b[1;31m---------------------------------------------------------------------------\u001b[0m",
      "\u001b[1;31mNameError\u001b[0m                                 Traceback (most recent call last)",
      "\u001b[1;32m<ipython-input-30-0d87e2469f45>\u001b[0m in \u001b[0;36m<module>\u001b[1;34m\u001b[0m\n\u001b[1;32m----> 1\u001b[1;33m \u001b[0mlista\u001b[0m \u001b[1;33m+\u001b[0m \u001b[1;36m1\u001b[0m\u001b[1;33m\u001b[0m\u001b[1;33m\u001b[0m\u001b[0m\n\u001b[0m",
      "\u001b[1;31mNameError\u001b[0m: name 'lista' is not defined"
     ]
    }
   ],
   "source": [
    "lista + 1"
   ]
  },
  {
   "cell_type": "markdown",
   "metadata": {
    "id": "XM4rla9L6xC7"
   },
   "source": [
    "¡Pero ahora con los arreglos sí!"
   ]
  },
  {
   "cell_type": "code",
   "execution_count": 30,
   "metadata": {
    "id": "QxQS9qSw6xC9"
   },
   "outputs": [
    {
     "data": {
      "text/plain": [
       "array([1, 2, 3, 4, 5, 6])"
      ]
     },
     "execution_count": 30,
     "metadata": {},
     "output_type": "execute_result"
    }
   ],
   "source": [
    "arreglo + 1"
   ]
  },
  {
   "cell_type": "markdown",
   "metadata": {
    "id": "xgo-b6nG6xDE"
   },
   "source": [
    "Esto simplifica mucho hacer cuéntas. Pero no es sólo sumar, también muchas otras operaciones:"
   ]
  },
  {
   "cell_type": "code",
   "execution_count": 31,
   "metadata": {
    "id": "GDFrflQS6xDG"
   },
   "outputs": [
    {
     "name": "stdout",
     "output_type": "stream",
     "text": [
      "[-5 -4 -3 -2 -1  0]\n",
      "[-2 -1  0  1  2  3]\n",
      "[ 0  4  8 12 16 20]\n",
      "[ 0  1  4  9 16 25]\n"
     ]
    }
   ],
   "source": [
    "print(arreglo - 5)\n",
    "print(arreglo - 2)\n",
    "print(arreglo*4)\n",
    "print(arreglo**2)"
   ]
  },
  {
   "cell_type": "markdown",
   "metadata": {
    "id": "OG5vEKqa6xDO"
   },
   "source": [
    "Comprobar que, salvo la multiplicación, ninguno estaba permitido en listas. ¿Qué hace la multiplicación en el caso de una lista?. Rta: la repite n veces"
   ]
  },
  {
   "cell_type": "markdown",
   "metadata": {
    "id": "8OLptg2q6xDP"
   },
   "source": [
    "### 2.1 Creación de arreglos"
   ]
  },
  {
   "cell_type": "markdown",
   "metadata": {
    "id": "5Besuznw6xDR"
   },
   "source": [
    "Si bien podemos crear arreglos a partir de listas, NumPy viene con muchas funciones para hacerlo. Veamos algunas.\n",
    "\n",
    "Una muy utilizada es `np.arange()`. Consulta su documentación. Otra opción es que, en una celda de código, escribas `np.arange` y aprietes `shift` + `tab`. De esa forma, te aparecerá la ayuda.\n",
    "\n",
    "Juega un poco con el ejemplo a continuación."
   ]
  },
  {
   "cell_type": "code",
   "execution_count": 34,
   "metadata": {
    "id": "ffVupHId6xDS"
   },
   "outputs": [
    {
     "output_type": "stream",
     "name": "stdout",
     "text": [
      "[ 3.  5.  7.  9. 11. 13. 15. 17. 19.]\n"
     ]
    }
   ],
   "source": [
    "arreglo = np.arange(3,20,2,float)\n",
    "print(arreglo)"
   ]
  },
  {
   "cell_type": "markdown",
   "metadata": {
    "id": "GrbJZzEA6xDZ"
   },
   "source": [
    "**Ejercicio:** investiga y crea ejemplos con las siguientes funciones\n",
    "* `np.linspace`. Presta particular atención a cómo se diferencia de `np.arange`.\n",
    "* `np.zeros` y `np.ones`\n",
    "\n",
    "### 2.2 Shape de los arreglos\n",
    "\n",
    "Los arreglos tienen muchos más propiedades que las listas. En particular, pueden tener más de un *eje* o dimensión. Veamos a qué nos referimos:"
   ]
  },
  {
   "cell_type": "code",
   "execution_count": 42,
   "metadata": {},
   "outputs": [
    {
     "output_type": "execute_result",
     "data": {
      "text/plain": [
       "array([ 3.        ,  3.34693878,  3.69387755,  4.04081633,  4.3877551 ,\n",
       "        4.73469388,  5.08163265,  5.42857143,  5.7755102 ,  6.12244898,\n",
       "        6.46938776,  6.81632653,  7.16326531,  7.51020408,  7.85714286,\n",
       "        8.20408163,  8.55102041,  8.89795918,  9.24489796,  9.59183673,\n",
       "        9.93877551, 10.28571429, 10.63265306, 10.97959184, 11.32653061,\n",
       "       11.67346939, 12.02040816, 12.36734694, 12.71428571, 13.06122449,\n",
       "       13.40816327, 13.75510204, 14.10204082, 14.44897959, 14.79591837,\n",
       "       15.14285714, 15.48979592, 15.83673469, 16.18367347, 16.53061224,\n",
       "       16.87755102, 17.2244898 , 17.57142857, 17.91836735, 18.26530612,\n",
       "       18.6122449 , 18.95918367, 19.30612245, 19.65306122, 20.        ])"
      ]
     },
     "metadata": {},
     "execution_count": 42
    }
   ],
   "source": [
    "arrLinspace = np.linspace(3,20,50,True)\n",
    "arrLinspace"
   ]
  },
  {
   "cell_type": "code",
   "execution_count": 48,
   "metadata": {
    "id": "2gj5gtxN6xDb"
   },
   "outputs": [
    {
     "output_type": "stream",
     "name": "stdout",
     "text": [
      "[[1 2 3 4]\n [5 6 7 8]]\n"
     ]
    }
   ],
   "source": [
    "arreglo_2d = np.array([[1,2,3,4],[5,6,7,8]])\n",
    "print(arreglo_2d)"
   ]
  },
  {
   "cell_type": "markdown",
   "metadata": {
    "id": "hd1tzKoY6xDi"
   },
   "source": [
    "Notar que tiene dos filas y cuatro columnas. Podemos descubrir esto sin imprimirlo en pantalla, sino usando la propiedad `.shape` del arreglo."
   ]
  },
  {
   "cell_type": "code",
   "execution_count": 49,
   "metadata": {
    "id": "39jXsa356xDk"
   },
   "outputs": [
    {
     "output_type": "stream",
     "name": "stdout",
     "text": [
      "(2, 4)\n"
     ]
    }
   ],
   "source": [
    "print(arreglo_2d.shape)"
   ]
  },
  {
   "cell_type": "markdown",
   "metadata": {
    "id": "F0gQzLOW6xDp"
   },
   "source": [
    "Primero aparece el número de filas y luego el de columnas. ¿Qué estructura de dato es `(2, 4)`? Otro ejemplo:"
   ]
  },
  {
   "cell_type": "code",
   "execution_count": 50,
   "metadata": {
    "id": "H-w91uc66xDr"
   },
   "outputs": [
    {
     "output_type": "stream",
     "name": "stdout",
     "text": [
      "[[1 2]\n [3 4]\n [5 6]\n [7 8]]\n(4, 2)\n"
     ]
    }
   ],
   "source": [
    "arreglo_2d = np.array([[1,2],[3,4],[5,6],[7,8]])\n",
    "print(arreglo_2d)\n",
    "print(arreglo_2d.shape)"
   ]
  },
  {
   "cell_type": "markdown",
   "metadata": {
    "id": "NI-72zHF6xDx"
   },
   "source": [
    "Si queremos saber cuántos elementos tiene, podemos usar `.size`"
   ]
  },
  {
   "cell_type": "code",
   "execution_count": 51,
   "metadata": {
    "id": "FAM3A5nN6xD1"
   },
   "outputs": [
    {
     "output_type": "stream",
     "name": "stdout",
     "text": [
      "8\n"
     ]
    }
   ],
   "source": [
    "print(arreglo_2d.size)"
   ]
  },
  {
   "cell_type": "markdown",
   "metadata": {
    "id": "AHudbTb_6xD7"
   },
   "source": [
    "### 2.3 Funciones que operan sobre arreglos\n",
    "\n",
    "Los arreglos de NumPy incorporan un montón de funciones que operan sobre los arreglos. Veamos algunos ejemplos."
   ]
  },
  {
   "cell_type": "code",
   "execution_count": 54,
   "metadata": {
    "id": "rsZiMiFa6xD9"
   },
   "outputs": [
    {
     "output_type": "stream",
     "name": "stdout",
     "text": [
      "-100\n95\n"
     ]
    }
   ],
   "source": [
    "un_arreglo = np.array([-100,2,3,17,25,1,95])\n",
    "print(un_arreglo.min())\n",
    "print(un_arreglo.max())"
   ]
  },
  {
   "cell_type": "markdown",
   "metadata": {
    "id": "E6xoQQOF6xED"
   },
   "source": [
    "En el caso 2D, podemos pedir que estas funciones operen sobre todo el arreglo, o por ejes.\n",
    "\n"
   ]
  },
  {
   "cell_type": "code",
   "execution_count": 68,
   "metadata": {
    "id": "V-MBXYIo6xEH"
   },
   "outputs": [
    {
     "output_type": "stream",
     "name": "stdout",
     "text": [
      "[[3 5 4]\n [2 0 7]\n [6 1 8]]\n"
     ]
    }
   ],
   "source": [
    "# No te preocupes si no entiendes lo que hace esta celda\n",
    "arreglo_2d = np.arange(9)\n",
    "np.random.shuffle(arreglo_2d)\n",
    "arreglo_2d = arreglo_2d.reshape((3,3))\n",
    "print(arreglo_2d)"
   ]
  },
  {
   "cell_type": "markdown",
   "metadata": {
    "id": "ieZnEuby6xEN"
   },
   "source": [
    "Trata de entender la diferencia entre las siguientes instrucciones:"
   ]
  },
  {
   "cell_type": "code",
   "execution_count": 69,
   "metadata": {
    "id": "sUB0kNoj6xET"
   },
   "outputs": [
    {
     "output_type": "stream",
     "name": "stdout",
     "text": [
      "8\n[6 5 8]\n[5 7 8]\n"
     ]
    }
   ],
   "source": [
    "print(arreglo_2d.max())\n",
    "print(arreglo_2d.max(axis = 0))\n",
    "print(arreglo_2d.max(axis = 1))"
   ]
  },
  {
   "cell_type": "markdown",
   "metadata": {
    "id": "WtKLIys36xEY"
   },
   "source": [
    "### Últimos comentarios\n",
    "\n",
    "* No dijimos nada sobre indexado ni slicing. Esto se debe a que, para arreglos 1D, es similar que para la listas. Para arreglos 2D, es apenas más complicado. Para estudiarlo, jugar con la siguiente celda:"
   ]
  },
  {
   "cell_type": "code",
   "execution_count": 98,
   "metadata": {
    "id": "CNAbEbBw6xEa"
   },
   "outputs": [
    {
     "output_type": "stream",
     "name": "stdout",
     "text": [
      "[[0 1 2]\n [3 4 5]\n [6 7 8]]\n[2 5 8]\n"
     ]
    }
   ],
   "source": [
    "arreglo_2d = np.arange(9).reshape(3,3)\n",
    "print(arreglo_2d)\n",
    "print(arreglo_2d[:,2])"
   ]
  },
  {
   "cell_type": "markdown",
   "metadata": {
    "id": "svHQKfw_6xEg"
   },
   "source": [
    "* Podemos usar `arreglo.max()` o `np.max(arreglo)`. Esto no es válido solamente para la función `max()`, sino también para casi todas las funciones que operen sobre arreglos. "
   ]
  },
  {
   "cell_type": "code",
   "execution_count": null,
   "metadata": {
    "id": "aTBJASA26xEh"
   },
   "outputs": [],
   "source": [
    "print(np.min(un_arreglo), un_arreglo.min())"
   ]
  },
  {
   "cell_type": "markdown",
   "metadata": {
    "id": "vL5QD71a6xEo"
   },
   "source": [
    "Existe mucho más - realmente mucho más - para decir sobre NumPy. Pero mucho irá apareciendo a medida que lo vayamos necesitando. Y, además, ¡este notebook ya es muy largo!\n",
    "\n",
    "### Ejercitación\n",
    "\n",
    "**Ejercicio 1**: Escribir un arreglo con 100 números equiespaciados del 0 al 9. Pista: `linspace`"
   ]
  },
  {
   "cell_type": "code",
   "execution_count": 100,
   "metadata": {
    "id": "_p2bvcte6xEq"
   },
   "outputs": [
    {
     "output_type": "stream",
     "name": "stdout",
     "text": [
      "(array([2.        , 2.07070707, 2.14141414, 2.21212121, 2.28282828,\n       2.35353535, 2.42424242, 2.49494949, 2.56565657, 2.63636364,\n       2.70707071, 2.77777778, 2.84848485, 2.91919192, 2.98989899,\n       3.06060606, 3.13131313, 3.2020202 , 3.27272727, 3.34343434,\n       3.41414141, 3.48484848, 3.55555556, 3.62626263, 3.6969697 ,\n       3.76767677, 3.83838384, 3.90909091, 3.97979798, 4.05050505,\n       4.12121212, 4.19191919, 4.26262626, 4.33333333, 4.4040404 ,\n       4.47474747, 4.54545455, 4.61616162, 4.68686869, 4.75757576,\n       4.82828283, 4.8989899 , 4.96969697, 5.04040404, 5.11111111,\n       5.18181818, 5.25252525, 5.32323232, 5.39393939, 5.46464646,\n       5.53535354, 5.60606061, 5.67676768, 5.74747475, 5.81818182,\n       5.88888889, 5.95959596, 6.03030303, 6.1010101 , 6.17171717,\n       6.24242424, 6.31313131, 6.38383838, 6.45454545, 6.52525253,\n       6.5959596 , 6.66666667, 6.73737374, 6.80808081, 6.87878788,\n       6.94949495, 7.02020202, 7.09090909, 7.16161616, 7.23232323,\n       7.3030303 , 7.37373737, 7.44444444, 7.51515152, 7.58585859,\n       7.65656566, 7.72727273, 7.7979798 , 7.86868687, 7.93939394,\n       8.01010101, 8.08080808, 8.15151515, 8.22222222, 8.29292929,\n       8.36363636, 8.43434343, 8.50505051, 8.57575758, 8.64646465,\n       8.71717172, 8.78787879, 8.85858586, 8.92929293, 9.        ]), 0.0707070707070707)\n"
     ]
    }
   ],
   "source": [
    "# COMPLETAR\n",
    "arreglo6= np.linspace(2,9,100,True,float)\n",
    "print(arreglo6)"
   ]
  },
  {
   "cell_type": "markdown",
   "metadata": {
    "id": "1qRG5b3m6xEv"
   },
   "source": [
    "**Ejercicio 2:** crear un arreglo 1D de 20 ceros. Reemplazar los primeros 15 elementos por unos."
   ]
  },
  {
   "cell_type": "code",
   "execution_count": 46,
   "metadata": {
    "id": "6xPwCrg26xEx"
   },
   "outputs": [
    {
     "name": "stdout",
     "output_type": "stream",
     "text": [
      "[0 0 0 0 0 0 0 0 0 0 0 0 0 0 0 0 0 0 0 0]\n",
      "[1 1 1 1 1 1 1 1 1 1 1 1 1 1 1 0 0 0 0 0]\n"
     ]
    }
   ],
   "source": [
    "# COMPLETAR\n",
    "elArreglo = np.zeros(20, dtype=int)\n",
    "print(elArreglo)\n",
    "elArreglo[0:15] = 1\n",
    "print(elArreglo)"
   ]
  },
  {
   "cell_type": "markdown",
   "metadata": {
    "id": "IwdggYiK6xE1"
   },
   "source": [
    "**Ejercicio 3:** crear un arreglo 1D de 50 ceros. Reemplazar los primeros 25 elementos por los números naturales del 0 al 24."
   ]
  },
  {
   "cell_type": "code",
   "execution_count": 108,
   "metadata": {
    "id": "Sp5joIbM6xE3"
   },
   "outputs": [
    {
     "output_type": "stream",
     "name": "stdout",
     "text": [
      "[ 0  1  2  3  4  5  6  7  8  9 10 11 12 13 14 15 16 17 18 19 20 21 22 23\n 24  0  0  0  0  0  0  0  0  0  0  0  0  0  0  0  0  0  0  0  0  0  0  0\n  0  0]\n"
     ]
    }
   ],
   "source": [
    "# COMPLETAR\n",
    "elArreglo = np.zeros(50, int)\n",
    "elArreglo[0:25] = np.arange(0,25)\n",
    "print(elArreglo)"
   ]
  },
  {
   "cell_type": "markdown",
   "metadata": {
    "id": "Vx74LT026xE-"
   },
   "source": [
    "**Ejercicio 4:** crear un arreglo 2D de 3 filas y 3 columnas, lleno de ceros. Reemplazar los elemento de la segunda columna por los números 1, 2 y 3 respectivamente. Es decir, crear la siguiente matriz:\n",
    "\n",
    "```\n",
    "0 1 0 \n",
    "0 2 0\n",
    "0 3 0\n",
    "```"
   ]
  },
  {
   "cell_type": "code",
   "execution_count": 67,
   "metadata": {
    "id": "ckTUAo6D6xE_"
   },
   "outputs": [
    {
     "name": "stdout",
     "output_type": "stream",
     "text": [
      "[[0. 1. 0.]\n",
      " [0. 2. 0.]\n",
      " [0. 3. 0.]]\n"
     ]
    }
   ],
   "source": [
    "# COMPLETAR\n",
    "arr = np.zeros((3,3))\n",
    "arr[:,1] = np.arange(1,4)\n",
    "print(arr)"
   ]
  },
  {
   "cell_type": "markdown",
   "metadata": {
    "id": "5K-FKtOA6xFE"
   },
   "source": [
    "**Ejercicio 5:** crear un arreglo 2D de 3 filas y 3 columnas, lleno de ceros. Reemplazar los elemento de la diagonal por unos. Es decir, crear la siguiente matriz:\n",
    "\n",
    "```\n",
    "1 0 0 \n",
    "0 1 0\n",
    "0 0 1\n",
    "```"
   ]
  },
  {
   "cell_type": "code",
   "execution_count": 89,
   "metadata": {
    "id": "VrkZuD4S6xFH"
   },
   "outputs": [
    {
     "name": "stdout",
     "output_type": "stream",
     "text": [
      "[[1. 0. 0.]\n",
      " [0. 1. 0.]\n",
      " [0. 0. 1.]]\n"
     ]
    }
   ],
   "source": [
    "# COMPLETAR\n",
    "arr = np.zeros((3,3))\n",
    "np.fill_diagonal(arr, 1)\n",
    "print(arr)"
   ]
  },
  {
   "cell_type": "markdown",
   "metadata": {
    "id": "Ap348o4h6xFN"
   },
   "source": [
    "**Ejercicio 6:** crear un arreglo 2D de 100 filas y 100 columnas, lleno de ceros. Reemplazar los elemento de la diagonal por unos. Es decir, crear la siguiente matriz:\n",
    "\n",
    "```\n",
    "1 0 0 ... 0 0 0 \n",
    "0 1 0 ... 0 0 0\n",
    "0 0 1 ... 0 0 0\n",
    "...  \n",
    "0 0 0 ... 1 0 0\n",
    "0 0 0 ... 0 1 0\n",
    "0 0 0 ... 0 0 1\n",
    "```"
   ]
  },
  {
   "cell_type": "code",
   "execution_count": null,
   "metadata": {
    "id": "UHkEt17i6xFP"
   },
   "outputs": [],
   "source": [
    "# COMPLETAR"
   ]
  },
  {
   "cell_type": "markdown",
   "metadata": {
    "id": "T78FHjuU6xFV"
   },
   "source": [
    "**Extra:** ¿Qué tipo de dato está usando NumPy cuando crea los arreglos?¿Y si queremos cambiarle el tipo de dato, por ejemplo a `int`? Googlear \"numpy astype\". ¿Qué pasa si usamos `astype(bool)`?"
   ]
  }
 ],
 "metadata": {
  "colab": {
   "collapsed_sections": [
    "1AJNWoqhPBQJ",
    "qecxWClXPBQM",
    "IeZnpQLV6xAv",
    "3t8rRW2j6xBU",
    "8OLptg2q6xDP",
    "GrbJZzEA6xDZ",
    "AHudbTb_6xD7",
    "WtKLIys36xEY",
    "vL5QD71a6xEo"
   ],
   "name": "DS_Bitácora_03_NumPy.ipynb",
   "provenance": []
  },
  "kernelspec": {
   "display_name": "Python 3",
   "language": "python",
   "name": "python3"
  },
  "language_info": {
   "codemirror_mode": {
    "name": "ipython",
    "version": 3
   },
   "file_extension": ".py",
   "mimetype": "text/x-python",
   "name": "python",
   "nbconvert_exporter": "python",
   "pygments_lexer": "ipython3",
   "version": "3.8.5"
  }
 },
 "nbformat": 4,
 "nbformat_minor": 1
}